{
 "cells": [
  {
   "cell_type": "code",
   "execution_count": 1,
   "id": "3f0199e0",
   "metadata": {},
   "outputs": [],
   "source": [
    "#mean\n",
    "l = [115.3,195.5,120.5,110.2,90.4,105.6,110.9,116.3,122.3,125.4]\n",
    "sum = 0\n",
    "for i in l:\n",
    "    sum =sum + i\n",
    "avg = sum/len(l)"
   ]
  },
  {
   "cell_type": "code",
   "execution_count": 2,
   "id": "93e5d1a0",
   "metadata": {},
   "outputs": [
    {
     "data": {
      "text/plain": [
       "121.24000000000001"
      ]
     },
     "execution_count": 2,
     "metadata": {},
     "output_type": "execute_result"
    }
   ],
   "source": [
    "avg"
   ]
  },
  {
   "cell_type": "code",
   "execution_count": 4,
   "id": "e2007987",
   "metadata": {},
   "outputs": [
    {
     "data": {
      "text/plain": [
       "105.6"
      ]
     },
     "execution_count": 4,
     "metadata": {},
     "output_type": "execute_result"
    }
   ],
   "source": [
    "#median\n",
    "i = int(len(l)/2)\n",
    "if i%2 == 0:\n",
    "    res=(l[i]+l[i+1])/2\n",
    "else:\n",
    "    res=l[i]\n",
    "res"
   ]
  },
  {
   "cell_type": "code",
   "execution_count": 5,
   "id": "f87e6b93",
   "metadata": {},
   "outputs": [
    {
     "data": {
      "text/plain": [
       "115.3"
      ]
     },
     "execution_count": 5,
     "metadata": {},
     "output_type": "execute_result"
    }
   ],
   "source": [
    "import statistics\n",
    "statistics.mode(l)"
   ]
  },
  {
   "cell_type": "code",
   "execution_count": 6,
   "id": "bf616324",
   "metadata": {},
   "outputs": [
    {
     "name": "stdout",
     "output_type": "stream",
     "text": [
      "115.3\n"
     ]
    }
   ],
   "source": [
    "#mode\n",
    "d={}\n",
    "for it in l:\n",
    "    if it in d:\n",
    "        d[it]=d[it]+1\n",
    "    else:\n",
    "        d[it]=1\n",
    "maxi=0\n",
    "for it in d:\n",
    "    if(d[it]>maxi):\n",
    "        maxi=d[it]\n",
    "        ans=it\n",
    "print(ans)"
   ]
  },
  {
   "cell_type": "code",
   "execution_count": 9,
   "id": "65cef833",
   "metadata": {},
   "outputs": [],
   "source": [
    "#variance&standard_deviation\n",
    "temp=0\n",
    "for it in l:\n",
    "    temp = temp+(it-avg)**2\n",
    "    \n",
    "variance = temp/len(l)\n",
    "sd=(variance)**(1/2)"
   ]
  },
  {
   "cell_type": "code",
   "execution_count": 10,
   "id": "915c6df6",
   "metadata": {},
   "outputs": [
    {
     "name": "stdout",
     "output_type": "stream",
     "text": [
      "701.7724\n",
      "26.490987146574962\n"
     ]
    }
   ],
   "source": [
    "print(variance)\n",
    "print(sd)"
   ]
  },
  {
   "cell_type": "code",
   "execution_count": 14,
   "id": "1e004485",
   "metadata": {},
   "outputs": [
    {
     "name": "stdout",
     "output_type": "stream",
     "text": [
      "90.4\n",
      "195.5\n"
     ]
    }
   ],
   "source": [
    "#normalization\n",
    "maxi = max(l)\n",
    "mini = min(l)\n",
    "for it in l:\n",
    "    if it>maxi:\n",
    "        maxi=it\n",
    "    if it<mini:\n",
    "        mini=it\n",
    "print(mini)\n",
    "print(maxi)"
   ]
  },
  {
   "cell_type": "code",
   "execution_count": 15,
   "id": "d3b66755",
   "metadata": {},
   "outputs": [
    {
     "data": {
      "text/plain": [
       "[0.23691722169362506,\n",
       " 1.0,\n",
       " 0.2863939105613701,\n",
       " 0.18839200761179828,\n",
       " 0.0,\n",
       " 0.14462416745956222,\n",
       " 0.1950523311132255,\n",
       " 0.24643196955280677,\n",
       " 0.3035204567078972,\n",
       " 0.3330161750713606]"
      ]
     },
     "execution_count": 15,
     "metadata": {},
     "output_type": "execute_result"
    }
   ],
   "source": [
    "norm=[]\n",
    "for it in l:\n",
    "    norm.append((it-mini)/(maxi-mini))\n",
    "norm"
   ]
  },
  {
   "cell_type": "code",
   "execution_count": 16,
   "id": "bf4d1a1a",
   "metadata": {},
   "outputs": [
    {
     "data": {
      "text/plain": [
       "[-0.22422720478983732,\n",
       " 2.803217546749711,\n",
       " -0.02793402887954231,\n",
       " -0.4167455119326263,\n",
       " -1.164169527898749,\n",
       " -0.5903894752378875,\n",
       " -0.3903214305600865,\n",
       " -0.18647851711478058,\n",
       " 0.040013608935559664,\n",
       " 0.15703454072823578]"
      ]
     },
     "execution_count": 16,
     "metadata": {},
     "output_type": "execute_result"
    }
   ],
   "source": [
    "#standardization\n",
    "standard=[]\n",
    "for it in l:\n",
    "    standard.append((it-avg)/sd)\n",
    "standard"
   ]
  },
  {
   "cell_type": "code",
   "execution_count": null,
   "id": "d1ca8189",
   "metadata": {},
   "outputs": [],
   "source": [
    "        "
   ]
  }
 ],
 "metadata": {
  "kernelspec": {
   "display_name": "Python 3",
   "language": "python",
   "name": "python3"
  },
  "language_info": {
   "codemirror_mode": {
    "name": "ipython",
    "version": 3
   },
   "file_extension": ".py",
   "mimetype": "text/x-python",
   "name": "python",
   "nbconvert_exporter": "python",
   "pygments_lexer": "ipython3",
   "version": "3.8.8"
  }
 },
 "nbformat": 4,
 "nbformat_minor": 5
}
