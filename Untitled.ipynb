{
 "cells": [
  {
   "cell_type": "code",
   "execution_count": 13,
   "id": "540a09d4",
   "metadata": {},
   "outputs": [],
   "source": [
    "import pandas as pd\n",
    "import numpy as np\n",
    "import sklearn"
   ]
  },
  {
   "cell_type": "code",
   "execution_count": 14,
   "id": "269a23f1",
   "metadata": {},
   "outputs": [
    {
     "data": {
      "text/html": [
       "<div>\n",
       "<style scoped>\n",
       "    .dataframe tbody tr th:only-of-type {\n",
       "        vertical-align: middle;\n",
       "    }\n",
       "\n",
       "    .dataframe tbody tr th {\n",
       "        vertical-align: top;\n",
       "    }\n",
       "\n",
       "    .dataframe thead th {\n",
       "        text-align: right;\n",
       "    }\n",
       "</style>\n",
       "<table border=\"1\" class=\"dataframe\">\n",
       "  <thead>\n",
       "    <tr style=\"text-align: right;\">\n",
       "      <th></th>\n",
       "      <th>0</th>\n",
       "      <th>1</th>\n",
       "      <th>2</th>\n",
       "    </tr>\n",
       "  </thead>\n",
       "  <tbody>\n",
       "    <tr>\n",
       "      <th>0</th>\n",
       "      <td>34.623660</td>\n",
       "      <td>78.024693</td>\n",
       "      <td>0</td>\n",
       "    </tr>\n",
       "    <tr>\n",
       "      <th>1</th>\n",
       "      <td>30.286711</td>\n",
       "      <td>43.894998</td>\n",
       "      <td>0</td>\n",
       "    </tr>\n",
       "    <tr>\n",
       "      <th>2</th>\n",
       "      <td>35.847409</td>\n",
       "      <td>72.902198</td>\n",
       "      <td>0</td>\n",
       "    </tr>\n",
       "    <tr>\n",
       "      <th>3</th>\n",
       "      <td>60.182599</td>\n",
       "      <td>86.308552</td>\n",
       "      <td>1</td>\n",
       "    </tr>\n",
       "    <tr>\n",
       "      <th>4</th>\n",
       "      <td>79.032736</td>\n",
       "      <td>75.344376</td>\n",
       "      <td>1</td>\n",
       "    </tr>\n",
       "  </tbody>\n",
       "</table>\n",
       "</div>"
      ],
      "text/plain": [
       "           0          1  2\n",
       "0  34.623660  78.024693  0\n",
       "1  30.286711  43.894998  0\n",
       "2  35.847409  72.902198  0\n",
       "3  60.182599  86.308552  1\n",
       "4  79.032736  75.344376  1"
      ]
     },
     "execution_count": 14,
     "metadata": {},
     "output_type": "execute_result"
    }
   ],
   "source": [
    "df=pd.read_csv('Student-University.csv',header=None)\n",
    "df.head()"
   ]
  },
  {
   "cell_type": "code",
   "execution_count": 15,
   "id": "3ec4e98e",
   "metadata": {},
   "outputs": [],
   "source": [
    "X = df.iloc[:,0:2]\n",
    "Y = list(df[2])\n",
    "\n",
    "for i in range(len(X)):\n",
    "    X[0] = ( X[0] - X[0].min() ) / ( X[0].max() - X[0].min() )\n",
    "    X[1] = ( X[1] - X[1].min() ) / ( X[1].max() - X[1].min() )"
   ]
  },
  {
   "cell_type": "code",
   "execution_count": 16,
   "id": "0c83e45e",
   "metadata": {},
   "outputs": [
    {
     "data": {
      "text/html": [
       "<div>\n",
       "<style scoped>\n",
       "    .dataframe tbody tr th:only-of-type {\n",
       "        vertical-align: middle;\n",
       "    }\n",
       "\n",
       "    .dataframe tbody tr th {\n",
       "        vertical-align: top;\n",
       "    }\n",
       "\n",
       "    .dataframe thead th {\n",
       "        text-align: right;\n",
       "    }\n",
       "</style>\n",
       "<table border=\"1\" class=\"dataframe\">\n",
       "  <thead>\n",
       "    <tr style=\"text-align: right;\">\n",
       "      <th></th>\n",
       "      <th>0</th>\n",
       "      <th>1</th>\n",
       "    </tr>\n",
       "  </thead>\n",
       "  <tbody>\n",
       "    <tr>\n",
       "      <th>0</th>\n",
       "      <td>0.065428</td>\n",
       "      <td>0.694655</td>\n",
       "    </tr>\n",
       "    <tr>\n",
       "      <th>1</th>\n",
       "      <td>0.003266</td>\n",
       "      <td>0.194705</td>\n",
       "    </tr>\n",
       "    <tr>\n",
       "      <th>2</th>\n",
       "      <td>0.082968</td>\n",
       "      <td>0.619618</td>\n",
       "    </tr>\n",
       "    <tr>\n",
       "      <th>3</th>\n",
       "      <td>0.431764</td>\n",
       "      <td>0.816001</td>\n",
       "    </tr>\n",
       "    <tr>\n",
       "      <th>4</th>\n",
       "      <td>0.701943</td>\n",
       "      <td>0.655392</td>\n",
       "    </tr>\n",
       "  </tbody>\n",
       "</table>\n",
       "</div>"
      ],
      "text/plain": [
       "          0         1\n",
       "0  0.065428  0.694655\n",
       "1  0.003266  0.194705\n",
       "2  0.082968  0.619618\n",
       "3  0.431764  0.816001\n",
       "4  0.701943  0.655392"
      ]
     },
     "execution_count": 16,
     "metadata": {},
     "output_type": "execute_result"
    }
   ],
   "source": [
    "X.head()"
   ]
  },
  {
   "cell_type": "code",
   "execution_count": 17,
   "id": "fedd2afc",
   "metadata": {},
   "outputs": [],
   "source": [
    "from sklearn.model_selection import train_test_split\n",
    "\n",
    "x_train, x_test, y_train, y_test = train_test_split(X, Y, test_size = 0.25, random_state = 111)"
   ]
  },
  {
   "cell_type": "code",
   "execution_count": 18,
   "id": "4d6658b0",
   "metadata": {},
   "outputs": [],
   "source": [
    "x1 = list(x_train[0])\n",
    "x1_test = list(x_test[0])\n",
    "x2 = list(x_train[1])\n",
    "x2_test = list(x_test[1])"
   ]
  },
  {
   "cell_type": "code",
   "execution_count": 19,
   "id": "9cbe088e",
   "metadata": {},
   "outputs": [],
   "source": [
    "b = [1,0.5,0.5]\n",
    "l_rate = 0.3\n",
    "e = 2.71828\n",
    "n = len(x1)"
   ]
  },
  {
   "cell_type": "code",
   "execution_count": 20,
   "id": "43030c0c",
   "metadata": {},
   "outputs": [],
   "source": [
    "def grad_desc(b):\n",
    "    p = []\n",
    "    x = []\n",
    "    a = 0\n",
    "    for i in range(n):\n",
    "        x.append(b[0] + b[1] * x1[i] + b[2] * x2[i])\n",
    "        \n",
    "    for i in range(n):\n",
    "        p.append( 1 / ( 1 + ( e ** ( -1 * x[i] ) ) ) )\n",
    "        \n",
    "    for j in range(3):\n",
    "        for i in range(n):\n",
    "            a = l_rate * (y_train[i] - p[i]) * (p[i]) * (1 - p[i])\n",
    "            if(j == 1):\n",
    "                a *= x1[i]\n",
    "            if(j == 2):\n",
    "                a *= x2[i]\n",
    "            b[j] += a \n",
    "    return b"
   ]
  },
  {
   "cell_type": "code",
   "execution_count": 21,
   "id": "3341207e",
   "metadata": {},
   "outputs": [],
   "source": [
    "for i in range(5):\n",
    "    b = grad_desc(b)"
   ]
  },
  {
   "cell_type": "code",
   "execution_count": 22,
   "id": "f01c704c",
   "metadata": {},
   "outputs": [],
   "source": [
    "x = []\n",
    "pred = []\n",
    "nt = len(x_test)\n",
    "\n",
    "for i in range(nt):\n",
    "    x.append(b[0] + b[1] * x1_test[i] + b[2] * x2_test[i])\n",
    "    \n",
    "for i in range(nt):\n",
    "    pred.append( 1 / ( 1 + ( e ** ( -1 * x[i] ) ) ) )\n",
    "    \n",
    "for i in range(nt):\n",
    "    if (pred[i] > 0.5):\n",
    "        pred[i] = 1\n",
    "    else:\n",
    "        pred[i] = 0"
   ]
  },
  {
   "cell_type": "code",
   "execution_count": 23,
   "id": "f7c7ce56",
   "metadata": {},
   "outputs": [
    {
     "name": "stdout",
     "output_type": "stream",
     "text": [
      "[[ 9  1]\n",
      " [ 0 15]]\n",
      "              precision    recall  f1-score   support\n",
      "\n",
      "           0       1.00      0.90      0.95        10\n",
      "           1       0.94      1.00      0.97        15\n",
      "\n",
      "    accuracy                           0.96        25\n",
      "   macro avg       0.97      0.95      0.96        25\n",
      "weighted avg       0.96      0.96      0.96        25\n",
      "\n"
     ]
    }
   ],
   "source": [
    "from sklearn.metrics import classification_report, confusion_matrix\n",
    "print(confusion_matrix(y_test, pred))\n",
    "print(classification_report(y_test, pred))"
   ]
  },
  {
   "cell_type": "code",
   "execution_count": null,
   "id": "ede46196",
   "metadata": {},
   "outputs": [],
   "source": []
  }
 ],
 "metadata": {
  "kernelspec": {
   "display_name": "Python 3",
   "language": "python",
   "name": "python3"
  },
  "language_info": {
   "codemirror_mode": {
    "name": "ipython",
    "version": 3
   },
   "file_extension": ".py",
   "mimetype": "text/x-python",
   "name": "python",
   "nbconvert_exporter": "python",
   "pygments_lexer": "ipython3",
   "version": "3.8.8"
  }
 },
 "nbformat": 4,
 "nbformat_minor": 5
}
